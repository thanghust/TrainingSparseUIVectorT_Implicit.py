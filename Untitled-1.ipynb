{
 "cells": [
  {
   "cell_type": "code",
   "execution_count": 8,
   "metadata": {},
   "outputs": [
    {
     "name": "stdout",
     "output_type": "stream",
     "text": [
      "4\n",
      "2\n",
      "7\n",
      "[[[5. 0. 0. 0. 0. 0. 0.]\n",
      "  [0. 4. 0. 0. 0. 0. 0.]\n",
      "  [0. 0. 0. 0. 0. 0. 0.]\n",
      "  [0. 0. 0. 0. 0. 4. 5.]]\n",
      "\n",
      " [[3. 0. 0. 0. 0. 0. 0.]\n",
      "  [0. 0. 0. 0. 0. 2. 0.]\n",
      "  [0. 0. 0. 0. 0. 0. 0.]\n",
      "  [0. 0. 0. 0. 0. 0. 0.]]]\n"
     ]
    }
   ],
   "source": [
    "import numpy as np\n",
    "\n",
    "# Assume you have the following data\n",
    "dataset = [\n",
    "    (1, 1, 5, 0),  # User 1, Item 1, Ranking 5, Timestamp 0\n",
    "    (1, 2, 4, 1),  # User 1, Item 2, Ranking 4, Timestamp 1\n",
    "    (2, 1, 3, 0),  # User 2, Item 1, Ranking 3, Timestamp 0\n",
    "    (2, 2, 2,5),   # User 2, Item 2, Ranking 2, Timestamp 1\n",
    "    (1,4,4,5),\n",
    "    (1,4,5,6)\n",
    "]\n",
    "\n",
    "# Determine the dimensions of the matrix\n",
    "num_users = max(data[0] for data in dataset)\n",
    "num_items = max(data[1] for data in dataset)\n",
    "num_timestamps = max(data[3] for data in dataset) + 1\n",
    "print(num_items)\n",
    "print(num_users)\n",
    "print(num_timestamps)\n",
    "\n",
    "# Create a 3D matrix\n",
    "matrix = np.zeros((num_users, num_items, num_timestamps))\n",
    "\n",
    "# Fill the matrix with rankings\n",
    "for user, item, ranking, timestamp in dataset:\n",
    "    matrix[user-1, item-1, timestamp] = ranking\n",
    "\n",
    "# Print the matrix\n",
    "print(matrix)\n"
   ]
  }
 ],
 "metadata": {
  "kernelspec": {
   "display_name": "base",
   "language": "python",
   "name": "python3"
  },
  "language_info": {
   "codemirror_mode": {
    "name": "ipython",
    "version": 3
   },
   "file_extension": ".py",
   "mimetype": "text/x-python",
   "name": "python",
   "nbconvert_exporter": "python",
   "pygments_lexer": "ipython3",
   "version": "3.9.7"
  },
  "orig_nbformat": 4
 },
 "nbformat": 4,
 "nbformat_minor": 2
}
